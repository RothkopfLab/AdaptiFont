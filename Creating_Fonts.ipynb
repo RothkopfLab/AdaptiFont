{
 "cells": [
  {
   "cell_type": "markdown",
   "metadata": {},
   "source": [
    "# Creating .ttf fonts from NMF components"
   ]
  },
  {
   "cell_type": "markdown",
   "metadata": {},
   "source": [
    "Lets first import some dependencies. The create_font function from our font_factory will be enough to create the .ttf fonts, while matplotlib does a good job at displaying the new fonts."
   ]
  },
  {
   "cell_type": "code",
   "execution_count": 1,
   "metadata": {},
   "outputs": [],
   "source": [
    "import os\n",
    "import matplotlib.pyplot as plt\n",
    "from matplotlib import font_manager as fm\n",
    "from font_factory.create_font import create_font\n",
    "%matplotlib inline"
   ]
  },
  {
   "cell_type": "markdown",
   "metadata": {},
   "source": [
    "Let's now create our function to construct a new font."
   ]
  },
  {
   "cell_type": "code",
   "execution_count": 2,
   "metadata": {},
   "outputs": [],
   "source": [
    "def construct_new_font(dims,fontname,path=\"example_fonts\"):\n",
    "    \"\"\"Construct a new font from NMF components.\n",
    "    dims -- A tuple of 3 floats describing how the NMF components should be combined.\n",
    "    fontname -- The name the created font will be given.\n",
    "    path -- The font will be stored here.\n",
    "    \"\"\"\n",
    "    nmf_matrix_path = \"../reading/decomposition/NMF_3_dim\"\n",
    "    create_font(fontname,dims,nmf_matrix_path,path)"
   ]
  },
  {
   "cell_type": "markdown",
   "metadata": {},
   "source": [
    "Now let's create our first new font. Remember that the first dimension stretches the font vertically, the second dimension adds serifs and the third dimension stretches horizontally. The higher the sum of the three components we put in, the more bold the font becomes. For example let's recreate the font from the centroid of the best cluster of subject 5 as it is shown in the paper."
   ]
  },
  {
   "cell_type": "code",
   "execution_count": 3,
   "metadata": {},
   "outputs": [],
   "source": [
    "subject5_dims = (4.394545504032883,2.443664017158955,5.590167878093153)\n",
    "construct_new_font(subject5_dims,\"example\")"
   ]
  },
  {
   "cell_type": "markdown",
   "metadata": {},
   "source": [
    "The font has now been created and you should find the finished font at `smartfont/example_fonts/example/example.ttf`. This is a fully functional font, that you can install to your system and then for example write your next essay in Word with it, or have the font integrated into your website."
   ]
  },
  {
   "cell_type": "markdown",
   "metadata": {},
   "source": [
    "## Plotting our Font in matplotlib"
   ]
  },
  {
   "cell_type": "markdown",
   "metadata": {},
   "source": [
    "Luckily, matplotlib is also able to import fonts, so we don't have to open an external application to see how our font turned out. Let's plot our newly created font right now."
   ]
  },
  {
   "cell_type": "code",
   "execution_count": 4,
   "metadata": {},
   "outputs": [],
   "source": [
    "def plot_font(fontname,text,path=\"example_fonts\"):\n",
    "    fig = plt.gcf()\n",
    "    fig.set_size_inches(14, 1)\n",
    "    prop = fm.FontProperties(fname=os.path.join(path,fontname,fontname+\".ttf\"),size=30)\n",
    "    plt.text(0.1,0.1,text,fontproperties=prop)"
   ]
  },
  {
   "cell_type": "code",
   "execution_count": 5,
   "metadata": {
    "scrolled": true
   },
   "outputs": [
    {
     "data": {
      "image/png": "[encoded data removed]",
      "text/plain": [
       "<Figure size 1008x72 with 1 Axes>"
      ]
     },
     "metadata": {
      "needs_background": "light"
     },
     "output_type": "display_data"
    }
   ],
   "source": [
    "plot_font(\"example\",\"The quick brown fox jumps over the lazy dog.\")"
   ]
  },
  {
   "cell_type": "markdown",
   "metadata": {},
   "source": [
    "To get you started creating your own fonts by combining components, the centroids of the best clusters of each subject are provided here."
   ]
  },
  {
   "cell_type": "code",
   "execution_count": 6,
   "metadata": {},
   "outputs": [],
   "source": [
    "centroids = {\n",
    "1:(4.567965671911177,5.326029025460425,5.57106237160902),\n",
    "2:(5.502306165741106,1.8895562742631984,3.6634277669109228),\n",
    "3:(4.562846565342048,4.098964133274768,6.4121169664185835),\n",
    "4:(4.322838068553694,3.759884619390942,5.319012683562857),\n",
    "5:(4.394545504032883,2.443664017158955,5.590167878093153),\n",
    "6:(5.804661634411329,1.0988051597117057,1.860646146662536),\n",
    "7:(6.6261716808398745,1.5880296334861648,2.535126342299829),\n",
    "8:(5.370367047465426,3.536315721264298,3.5554862808923957),\n",
    "9:(4.268799061073769,3.4994118720894307,4.149376597048312),\n",
    "10:(5.630611771193901,5.383369293317526,1.298908702910471),\n",
    "11:(5.697298732250703,3.0164034918268032,3.076359634351843)\n",
    "}"
   ]
  }
 ],
 "metadata": {
  "kernelspec": {
   "display_name": "basicenv",
   "language": "python",
   "name": "basicenv"
  },
  "language_info": {
   "codemirror_mode": {
    "name": "ipython",
    "version": 3
   },
   "file_extension": ".py",
   "mimetype": "text/x-python",
   "name": "python",
   "nbconvert_exporter": "python",
   "pygments_lexer": "ipython3",
   "version": "3.6.9"
  }
 },
 "nbformat": 4,
 "nbformat_minor": 4
}
